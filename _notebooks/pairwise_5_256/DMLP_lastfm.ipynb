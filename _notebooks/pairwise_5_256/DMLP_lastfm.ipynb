{
 "cells": [
  {
   "cell_type": "code",
   "execution_count": 1,
   "id": "2c76b994",
   "metadata": {
    "colab": {
     "base_uri": "https://localhost:8080/"
    },
    "executionInfo": {
     "elapsed": 17534,
     "status": "ok",
     "timestamp": 1757484691483,
     "user": {
      "displayName": "jay arnim",
      "userId": "06585464737719356011"
     },
     "user_tz": -540
    },
    "id": "2c76b994",
    "outputId": "12cfe143-3420-4d53-a918-b1e74f6ad184"
   },
   "outputs": [],
   "source": [
    "MODEL_CLASS = \"DMLP\"\n",
    "DATA_NAME = \"lastfm\"\n",
    "MODEL_NAME = f\"{MODEL_CLASS}_{DATA_NAME}\"\n",
    "LEARNING_TYPE = \"pairwise\"\n",
    "TRN_NEG_PER_POS = 1\n",
    "TRN_BATCH_SIZE = 256\n",
    "\n",
    "WORK_DIR_PATH = \"../..\"\n",
    "\n",
    "# from google.colab import drive\n",
    "# drive.mount('/content/drive')\n",
    "# WORK_DIR_PATH = \"/content/drive/MyDrive/RS-DNCF/\""
   ]
  },
  {
   "cell_type": "markdown",
   "id": "613e2bd6",
   "metadata": {
    "id": "613e2bd6"
   },
   "source": [
    "# Constants"
   ]
  },
  {
   "cell_type": "code",
   "execution_count": 2,
   "id": "13d57644",
   "metadata": {
    "id": "13d57644"
   },
   "outputs": [],
   "source": [
    "# split\n",
    "EVAL_NEG_PER_POS = 99\n",
    "EVAL_BATCH_SIZE = 1000\n",
    "DATA_LOADING_TYPE = \"general\"\n",
    "FILTER_BY = \"user\"\n",
    "TRN_VAL_TST_RATIO = [0.8, 0.1, 0.1]\n",
    "NEG_PER_POS = [TRN_NEG_PER_POS, TRN_NEG_PER_POS, EVAL_NEG_PER_POS, EVAL_NEG_PER_POS]\n",
    "BATCH_SIZE = [TRN_BATCH_SIZE, TRN_BATCH_SIZE, EVAL_BATCH_SIZE, EVAL_BATCH_SIZE]\n",
    "MAX_HIST = None\n",
    "SHUFFLE = False if DATA_LOADING_TYPE==\"curriculum\" else True\n",
    "\n",
    "# Model\n",
    "N_FACTORS = 32\n",
    "HIDDEN = [N_FACTORS*4, N_FACTORS*4, N_FACTORS*2, N_FACTORS]\n",
    "DROPOUT = 0.2\n",
    "\n",
    "# how to learn\n",
    "LEARNING_RATE = 1e-4 if TRN_BATCH_SIZE==256 else 1e-3\n",
    "LAMBDA_ = 1e-3\n",
    "\n",
    "# how to monitor\n",
    "PATIENCE = 5\n",
    "MIN_DELTA = 1e-3\n",
    "\n",
    "# how to loop\n",
    "N_EPOCHS = 1000\n",
    "INTERVAL = 5"
   ]
  },
  {
   "cell_type": "markdown",
   "id": "f9f08c36",
   "metadata": {
    "id": "f9f08c36"
   },
   "source": [
    "# Config"
   ]
  },
  {
   "cell_type": "code",
   "execution_count": 3,
   "id": "49c58ea9",
   "metadata": {
    "id": "49c58ea9"
   },
   "outputs": [],
   "source": [
    "import warnings\n",
    "warnings.filterwarnings(\"ignore\")"
   ]
  },
  {
   "cell_type": "code",
   "execution_count": 4,
   "id": "be23d2a7",
   "metadata": {
    "colab": {
     "base_uri": "https://localhost:8080/"
    },
    "executionInfo": {
     "elapsed": 196,
     "status": "ok",
     "timestamp": 1757484691692,
     "user": {
      "displayName": "jay arnim",
      "userId": "06585464737719356011"
     },
     "user_tz": -540
    },
    "id": "be23d2a7",
    "outputId": "31d864ad-2784-4e0c-df0b-94206cfcfd17"
   },
   "outputs": [
    {
     "name": "stdout",
     "output_type": "stream",
     "text": [
      "DIRECTORY: c:\\Users\\jayar\\Desktop\\바탕 화면\\MDPI\\RS-DNCF\n"
     ]
    }
   ],
   "source": [
    "import os\n",
    "os.environ[\"CUDA_LAUNCH_BLOCKING\"] = \"1\"\n",
    "os.chdir(WORK_DIR_PATH)\n",
    "print(f\"DIRECTORY: {os.getcwd()}\")"
   ]
  },
  {
   "cell_type": "code",
   "execution_count": 5,
   "id": "851631e1",
   "metadata": {
    "execution": {
     "iopub.execute_input": "2025-04-18T00:54:05.108232Z",
     "iopub.status.busy": "2025-04-18T00:54:05.108232Z",
     "iopub.status.idle": "2025-04-18T00:54:05.782577Z",
     "shell.execute_reply": "2025-04-18T00:54:05.782577Z"
    },
    "id": "851631e1"
   },
   "outputs": [],
   "source": [
    "import pandas as pd\n",
    "import torch\n",
    "from DNCF import dncf\n",
    "import UTILS\n",
    "from LOOP.loop import TrainingLoop\n",
    "from LOOP.monitor.predictor import predict\n",
    "from LOOP.monitor.monitor import EarlyStoppingMonitor\n",
    "from LOOP.metric.ranking import ndcg_at_k as metric_fn\n",
    "from LOOP.metric.ranking import top_k_loop"
   ]
  },
  {
   "cell_type": "code",
   "execution_count": 6,
   "id": "df2cb50f",
   "metadata": {
    "id": "df2cb50f"
   },
   "outputs": [],
   "source": [
    "if LEARNING_TYPE==\"pairwise\":\n",
    "    from DATA_SPLITTER.pairwise import trn_val_tst\n",
    "    from LOOP.trainer.pairwise import PairwiseTrainer as Trainer\n",
    "    from LOOP.loss_fn.bpr import bpr as task_fn\n",
    "\n",
    "elif LEARNING_TYPE==\"pointwise\":\n",
    "    from DATA_SPLITTER.pointwise import trn_val_tst\n",
    "    from LOOP.trainer.pointwise import PointwiseTrainer as Trainer\n",
    "    from LOOP.loss_fn.bce import bce as task_fn\n",
    "\n",
    "else:\n",
    "    ValueError"
   ]
  },
  {
   "cell_type": "code",
   "execution_count": 7,
   "id": "7d401345",
   "metadata": {
    "id": "7d401345"
   },
   "outputs": [],
   "source": [
    "from UTILS.constants import (\n",
    "    DEFAULT_USER_COL,\n",
    "    DEFAULT_ITEM_COL,\n",
    "    DEFAULT_RATING_COL,\n",
    "    DEFAULT_LABEL_COL,\n",
    "    DEFAULT_TIMESTAMP_COL,\n",
    "    DEFAULT_PREDICTION_COL,\n",
    "    COL_DICT,\n",
    "    DEFAULT_K,\n",
    "    DEFAULT_THRESHOLD,\n",
    "    SEED,\n",
    ")"
   ]
  },
  {
   "cell_type": "code",
   "execution_count": 8,
   "id": "9a53ddac",
   "metadata": {
    "colab": {
     "base_uri": "https://localhost:8080/"
    },
    "execution": {
     "iopub.execute_input": "2025-04-18T00:54:05.782577Z",
     "iopub.status.busy": "2025-04-18T00:54:05.782577Z",
     "iopub.status.idle": "2025-04-18T00:54:05.812530Z",
     "shell.execute_reply": "2025-04-18T00:54:05.812530Z"
    },
    "executionInfo": {
     "elapsed": 378,
     "status": "ok",
     "timestamp": 1757484721490,
     "user": {
      "displayName": "jay arnim",
      "userId": "06585464737719356011"
     },
     "user_tz": -540
    },
    "id": "9a53ddac",
    "outputId": "4a2f8837-28b1-4399-c0f8-7be24d30521c"
   },
   "outputs": [
    {
     "name": "stdout",
     "output_type": "stream",
     "text": [
      "SETTING ALL SEEDS TO 42...\n",
      "ALL SEEDS SET\n"
     ]
    }
   ],
   "source": [
    "# seed\n",
    "UTILS.seed.reset()"
   ]
  },
  {
   "cell_type": "code",
   "execution_count": 9,
   "id": "97ae7b90",
   "metadata": {
    "colab": {
     "base_uri": "https://localhost:8080/"
    },
    "execution": {
     "iopub.execute_input": "2025-04-18T00:54:05.812530Z",
     "iopub.status.busy": "2025-04-18T00:54:05.812530Z",
     "iopub.status.idle": "2025-04-18T00:54:05.816030Z",
     "shell.execute_reply": "2025-04-18T00:54:05.816030Z"
    },
    "executionInfo": {
     "elapsed": 15,
     "status": "ok",
     "timestamp": 1757484721509,
     "user": {
      "displayName": "jay arnim",
      "userId": "06585464737719356011"
     },
     "user_tz": -540
    },
    "id": "97ae7b90",
    "outputId": "7cdb53f2-8c78-4549-98e0-5f41e7017924"
   },
   "outputs": [
    {
     "name": "stdout",
     "output_type": "stream",
     "text": [
      "cuda\n"
     ]
    }
   ],
   "source": [
    "# Available GPU\n",
    "device = torch.device(\"cuda\" if torch.cuda.is_available() else \"cpu\")\n",
    "print(device)"
   ]
  },
  {
   "cell_type": "markdown",
   "id": "0b47285f",
   "metadata": {
    "id": "0b47285f"
   },
   "source": [
    "# Data Preparation"
   ]
  },
  {
   "cell_type": "code",
   "execution_count": 10,
   "id": "ed5d6be4",
   "metadata": {
    "execution": {
     "iopub.execute_input": "2025-04-18T00:54:05.816030Z",
     "iopub.status.busy": "2025-04-18T00:54:05.816030Z",
     "iopub.status.idle": "2025-04-18T00:54:05.838930Z",
     "shell.execute_reply": "2025-04-18T00:54:05.838930Z"
    },
    "id": "ed5d6be4"
   },
   "outputs": [],
   "source": [
    "data = pd.read_csv(f\"./_data/{DATA_NAME}.csv\")"
   ]
  },
  {
   "cell_type": "code",
   "execution_count": 11,
   "id": "a3d2b14e",
   "metadata": {
    "execution": {
     "iopub.execute_input": "2025-04-18T00:54:05.840436Z",
     "iopub.status.busy": "2025-04-18T00:54:05.840436Z",
     "iopub.status.idle": "2025-04-18T00:54:05.855254Z",
     "shell.execute_reply": "2025-04-18T00:54:05.855254Z"
    },
    "id": "a3d2b14e"
   },
   "outputs": [],
   "source": [
    "# Number of user, item\n",
    "N_USERS = data[DEFAULT_USER_COL].nunique()\n",
    "N_ITEMS = data[DEFAULT_ITEM_COL].nunique()"
   ]
  },
  {
   "cell_type": "code",
   "execution_count": 12,
   "id": "483c1f75",
   "metadata": {
    "colab": {
     "base_uri": "https://localhost:8080/"
    },
    "execution": {
     "iopub.execute_input": "2025-04-18T00:54:05.855254Z",
     "iopub.status.busy": "2025-04-18T00:54:05.855254Z",
     "iopub.status.idle": "2025-04-18T00:54:05.860357Z",
     "shell.execute_reply": "2025-04-18T00:54:05.860357Z"
    },
    "executionInfo": {
     "elapsed": 16,
     "status": "ok",
     "timestamp": 1757484726139,
     "user": {
      "displayName": "jay arnim",
      "userId": "06585464737719356011"
     },
     "user_tz": -540
    },
    "id": "483c1f75",
    "outputId": "29c8d7f0-bd81-4e48-dd1e-beb99e58440e"
   },
   "outputs": [
    {
     "name": "stdout",
     "output_type": "stream",
     "text": [
      "number of user: 1892\n",
      "number of item: 17632\n",
      "total interaction: 92834\n",
      "interaction density: 0.2783 %\n",
      "max interaction of user: 50\n",
      "top 10.0 % interaction of user: 50.0\n",
      "mean interaction of user: 49\n",
      "mean interaction of item: 5\n"
     ]
    }
   ],
   "source": [
    "# data Description\n",
    "UTILS.data_handler.description(data)"
   ]
  },
  {
   "cell_type": "code",
   "execution_count": 13,
   "id": "a1bf6691",
   "metadata": {
    "id": "a1bf6691"
   },
   "outputs": [],
   "source": [
    "kwargs = dict(\n",
    "    origin=data,\n",
    "    n_users=N_USERS,\n",
    "    n_items=N_ITEMS,\n",
    "    loading_type=DATA_LOADING_TYPE,\n",
    ")\n",
    "\n",
    "dataloader = trn_val_tst.DataSplitter(**kwargs)"
   ]
  },
  {
   "cell_type": "code",
   "execution_count": 14,
   "id": "49271df2",
   "metadata": {
    "id": "49271df2"
   },
   "outputs": [],
   "source": [
    "kwargs = dict(\n",
    "    filter_by=FILTER_BY,\n",
    "    trn_val_tst_ratio=TRN_VAL_TST_RATIO,\n",
    "    neg_per_pos=NEG_PER_POS,\n",
    "    batch_size=BATCH_SIZE,\n",
    "    max_hist=MAX_HIST,\n",
    "    shuffle=SHUFFLE,\n",
    ")\n",
    "\n",
    "loaders, interactions, histories = dataloader.get(**kwargs)"
   ]
  },
  {
   "cell_type": "code",
   "execution_count": 15,
   "id": "87757157",
   "metadata": {
    "id": "87757157"
   },
   "outputs": [],
   "source": [
    "trn_loader, val_loader, tst_loader, loo_loader = loaders"
   ]
  },
  {
   "cell_type": "markdown",
   "id": "eaaa126a",
   "metadata": {
    "id": "eaaa126a"
   },
   "source": [
    "# Modeling"
   ]
  },
  {
   "cell_type": "code",
   "execution_count": 16,
   "id": "56d340e9",
   "metadata": {
    "execution": {
     "iopub.execute_input": "2025-04-18T00:54:06.931133Z",
     "iopub.status.busy": "2025-04-18T00:54:06.931133Z",
     "iopub.status.idle": "2025-04-18T00:54:07.014576Z",
     "shell.execute_reply": "2025-04-18T00:54:07.014576Z"
    },
    "id": "56d340e9"
   },
   "outputs": [],
   "source": [
    "kwargs = dict(\n",
    "    n_users=N_USERS,\n",
    "    n_items=N_ITEMS,\n",
    "    n_factors=N_FACTORS,\n",
    "    interactions=interactions,\n",
    ")\n",
    "\n",
    "if MODEL_CLASS ==\"DGMF\":\n",
    "    model = dncf.dgmf.Module(**kwargs)\n",
    "elif MODEL_CLASS==\"DMLP\":\n",
    "    kwargs[\"hidden\"] = HIDDEN\n",
    "    kwargs[\"dropout\"] = DROPOUT\n",
    "    model = dncf.dmlp.Module(**kwargs)\n",
    "else:\n",
    "    ValueError()"
   ]
  },
  {
   "cell_type": "code",
   "execution_count": 17,
   "id": "92aec85d",
   "metadata": {
    "execution": {
     "iopub.execute_input": "2025-04-18T00:54:07.014576Z",
     "iopub.status.busy": "2025-04-18T00:54:07.014576Z",
     "iopub.status.idle": "2025-04-18T00:54:07.834168Z",
     "shell.execute_reply": "2025-04-18T00:54:07.834168Z"
    },
    "id": "92aec85d"
   },
   "outputs": [],
   "source": [
    "kwargs = dict(\n",
    "    model=model,\n",
    "    task_fn=task_fn,\n",
    "    lr=LEARNING_RATE,\n",
    "    lambda_=LAMBDA_\n",
    ")\n",
    "\n",
    "trainer = Trainer(**kwargs)"
   ]
  },
  {
   "cell_type": "code",
   "execution_count": 18,
   "id": "4d57d2b1",
   "metadata": {
    "id": "4d57d2b1"
   },
   "outputs": [],
   "source": [
    "kwargs = dict(\n",
    "    model=model,\n",
    "    metric_fn=metric_fn,\n",
    "    patience=PATIENCE,\n",
    "    min_delta=MIN_DELTA,\n",
    ")\n",
    "\n",
    "monitor = EarlyStoppingMonitor(**kwargs)"
   ]
  },
  {
   "cell_type": "code",
   "execution_count": 19,
   "id": "0fa9e8de",
   "metadata": {
    "id": "0fa9e8de"
   },
   "outputs": [],
   "source": [
    "kwargs = dict(\n",
    "    model=model,\n",
    "    trainer=trainer,\n",
    "    monitor=monitor,\n",
    ")\n",
    "\n",
    "loop = TrainingLoop(**kwargs)"
   ]
  },
  {
   "cell_type": "markdown",
   "id": "ee78f187",
   "metadata": {
    "id": "ee78f187"
   },
   "source": [
    "# Train"
   ]
  },
  {
   "cell_type": "code",
   "execution_count": 20,
   "id": "3e4de17a",
   "metadata": {
    "colab": {
     "base_uri": "https://localhost:8080/"
    },
    "execution": {
     "iopub.execute_input": "2025-04-18T00:54:07.834168Z",
     "iopub.status.busy": "2025-04-18T00:54:07.834168Z",
     "iopub.status.idle": "2025-04-18T00:55:21.491977Z",
     "shell.execute_reply": "2025-04-18T00:55:21.491977Z"
    },
    "executionInfo": {
     "elapsed": 465803,
     "status": "ok",
     "timestamp": 1757485207098,
     "user": {
      "displayName": "jay arnim",
      "userId": "06585464737719356011"
     },
     "user_tz": -540
    },
    "id": "3e4de17a",
    "outputId": "bb5247d9-4d16-44f7-d472-52db76b954ae"
   },
   "outputs": [
    {
     "name": "stdout",
     "output_type": "stream",
     "text": [
      "LEAVE ONE OUT BEST EPOCH: 75\n",
      "LEAVE ONE OUT BEST SCORE: 0.5168\n",
      "MEAN OF PER EPOCH (/s): 3.6382\n"
     ]
    }
   ],
   "source": [
    "kwargs = dict(\n",
    "    trn_loader=trn_loader,\n",
    "    val_loader=val_loader,\n",
    "    loo_loader=loo_loader,\n",
    "    n_epochs=N_EPOCHS,\n",
    "    interval=INTERVAL,\n",
    ")\n",
    "\n",
    "history = loop.fit(**kwargs)"
   ]
  },
  {
   "cell_type": "code",
   "execution_count": 21,
   "id": "0dde1ad9",
   "metadata": {
    "colab": {
     "base_uri": "https://localhost:8080/",
     "height": 507
    },
    "execution": {
     "iopub.execute_input": "2025-04-18T00:55:21.491977Z",
     "iopub.status.busy": "2025-04-18T00:55:21.491977Z",
     "iopub.status.idle": "2025-04-18T00:55:21.585604Z",
     "shell.execute_reply": "2025-04-18T00:55:21.585604Z"
    },
    "executionInfo": {
     "elapsed": 437,
     "status": "ok",
     "timestamp": 1757485207546,
     "user": {
      "displayName": "jay arnim",
      "userId": "06585464737719356011"
     },
     "user_tz": -540
    },
    "id": "0dde1ad9",
    "outputId": "70137b27-012a-4271-9e49-b892a474d6db"
   },
   "outputs": [
    {
     "data": {
      "image/png": "[encoded data removed]",
      "text/plain": [
       "<Figure size 800x500 with 1 Axes>"
      ]
     },
     "metadata": {},
     "output_type": "display_data"
    }
   ],
   "source": [
    "UTILS.visualizer.loss_plot(history, 'TASK LOSS')"
   ]
  },
  {
   "cell_type": "markdown",
   "id": "98b20720",
   "metadata": {
    "id": "98b20720"
   },
   "source": [
    "# Test"
   ]
  },
  {
   "cell_type": "code",
   "execution_count": 22,
   "id": "5efe605c",
   "metadata": {
    "colab": {
     "base_uri": "https://localhost:8080/"
    },
    "execution": {
     "iopub.execute_input": "2025-04-18T00:55:21.660121Z",
     "iopub.status.busy": "2025-04-18T00:55:21.660121Z",
     "iopub.status.idle": "2025-04-18T00:55:26.983338Z",
     "shell.execute_reply": "2025-04-18T00:55:26.983338Z"
    },
    "executionInfo": {
     "elapsed": 2990,
     "status": "ok",
     "timestamp": 1757485210534,
     "user": {
      "displayName": "jay arnim",
      "userId": "06585464737719356011"
     },
     "user_tz": -540
    },
    "id": "5efe605c",
    "outputId": "89ca29e9-133e-405d-848d-f299a6c26f1c"
   },
   "outputs": [
    {
     "name": "stderr",
     "output_type": "stream",
     "text": [
      "TST: 100%|██████████| 928/928 [00:04<00:00, 190.08it/s]\n"
     ]
    }
   ],
   "source": [
    "kwargs = dict(\n",
    "    model=model,\n",
    "    dataloader=tst_loader,\n",
    ")\n",
    "\n",
    "result = predict(**kwargs)"
   ]
  },
  {
   "cell_type": "code",
   "execution_count": 23,
   "id": "10483fb5",
   "metadata": {
    "colab": {
     "base_uri": "https://localhost:8080/"
    },
    "executionInfo": {
     "elapsed": 16882,
     "status": "ok",
     "timestamp": 1757485227418,
     "user": {
      "displayName": "jay arnim",
      "userId": "06585464737719356011"
     },
     "user_tz": -540
    },
    "id": "10483fb5",
    "outputId": "3c197b09-1181-427e-db82-f9f17878b6c2"
   },
   "outputs": [
    {
     "data": {
      "text/html": [
       "<div>\n",
       "<style scoped>\n",
       "    .dataframe tbody tr th:only-of-type {\n",
       "        vertical-align: middle;\n",
       "    }\n",
       "\n",
       "    .dataframe tbody tr th {\n",
       "        vertical-align: top;\n",
       "    }\n",
       "\n",
       "    .dataframe thead th {\n",
       "        text-align: right;\n",
       "    }\n",
       "</style>\n",
       "<table border=\"1\" class=\"dataframe\">\n",
       "  <thead>\n",
       "    <tr style=\"text-align: right;\">\n",
       "      <th></th>\n",
       "      <th>top_k</th>\n",
       "      <th>hit_ratio</th>\n",
       "      <th>precision</th>\n",
       "      <th>recall</th>\n",
       "      <th>map</th>\n",
       "      <th>ndcg</th>\n",
       "    </tr>\n",
       "  </thead>\n",
       "  <tbody>\n",
       "    <tr>\n",
       "      <th>0</th>\n",
       "      <td>5</td>\n",
       "      <td>0.798507</td>\n",
       "      <td>0.302878</td>\n",
       "      <td>0.307187</td>\n",
       "      <td>0.228760</td>\n",
       "      <td>0.339430</td>\n",
       "    </tr>\n",
       "    <tr>\n",
       "      <th>1</th>\n",
       "      <td>10</td>\n",
       "      <td>0.903518</td>\n",
       "      <td>0.218177</td>\n",
       "      <td>0.442973</td>\n",
       "      <td>0.276927</td>\n",
       "      <td>0.413139</td>\n",
       "    </tr>\n",
       "    <tr>\n",
       "      <th>2</th>\n",
       "      <td>15</td>\n",
       "      <td>0.937633</td>\n",
       "      <td>0.171642</td>\n",
       "      <td>0.521793</td>\n",
       "      <td>0.295790</td>\n",
       "      <td>0.448452</td>\n",
       "    </tr>\n",
       "    <tr>\n",
       "      <th>3</th>\n",
       "      <td>20</td>\n",
       "      <td>0.953625</td>\n",
       "      <td>0.140565</td>\n",
       "      <td>0.569376</td>\n",
       "      <td>0.304434</td>\n",
       "      <td>0.467491</td>\n",
       "    </tr>\n",
       "    <tr>\n",
       "      <th>4</th>\n",
       "      <td>25</td>\n",
       "      <td>0.966418</td>\n",
       "      <td>0.119616</td>\n",
       "      <td>0.605624</td>\n",
       "      <td>0.309617</td>\n",
       "      <td>0.480864</td>\n",
       "    </tr>\n",
       "    <tr>\n",
       "      <th>5</th>\n",
       "      <td>50</td>\n",
       "      <td>0.990405</td>\n",
       "      <td>0.070203</td>\n",
       "      <td>0.711469</td>\n",
       "      <td>0.320123</td>\n",
       "      <td>0.515202</td>\n",
       "    </tr>\n",
       "    <tr>\n",
       "      <th>6</th>\n",
       "      <td>100</td>\n",
       "      <td>1.000000</td>\n",
       "      <td>0.040128</td>\n",
       "      <td>0.812918</td>\n",
       "      <td>0.325430</td>\n",
       "      <td>0.542905</td>\n",
       "    </tr>\n",
       "  </tbody>\n",
       "</table>\n",
       "</div>"
      ],
      "text/plain": [
       "   top_k  hit_ratio  precision    recall       map      ndcg\n",
       "0      5   0.798507   0.302878  0.307187  0.228760  0.339430\n",
       "1     10   0.903518   0.218177  0.442973  0.276927  0.413139\n",
       "2     15   0.937633   0.171642  0.521793  0.295790  0.448452\n",
       "3     20   0.953625   0.140565  0.569376  0.304434  0.467491\n",
       "4     25   0.966418   0.119616  0.605624  0.309617  0.480864\n",
       "5     50   0.990405   0.070203  0.711469  0.320123  0.515202\n",
       "6    100   1.000000   0.040128  0.812918  0.325430  0.542905"
      ]
     },
     "execution_count": 23,
     "metadata": {},
     "output_type": "execute_result"
    }
   ],
   "source": [
    "eval = top_k_loop(result)\n",
    "eval"
   ]
  },
  {
   "cell_type": "markdown",
   "id": "2809f6ea",
   "metadata": {
    "id": "2809f6ea"
   },
   "source": [
    "# Save"
   ]
  },
  {
   "cell_type": "code",
   "execution_count": 24,
   "id": "dd64f5f0",
   "metadata": {
    "id": "dd64f5f0"
   },
   "outputs": [],
   "source": [
    "PATH = f'./_checkpoints/{LEARNING_TYPE}_{INTERVAL}_{TRN_BATCH_SIZE}/{MODEL_NAME}.pth'\n",
    "\n",
    "kwargs = dict(\n",
    "    model=model,\n",
    "    path=PATH,\n",
    ")\n",
    "\n",
    "UTILS.checkpointer.save(**kwargs)"
   ]
  }
 ],
 "metadata": {
  "accelerator": "GPU",
  "colab": {
   "gpuType": "T4",
   "provenance": []
  },
  "kernelspec": {
   "display_name": "Python 3",
   "name": "python3"
  },
  "language_info": {
   "codemirror_mode": {
    "name": "ipython",
    "version": 3
   },
   "file_extension": ".py",
   "mimetype": "text/x-python",
   "name": "python",
   "nbconvert_exporter": "python",
   "pygments_lexer": "ipython3",
   "version": "3.11.5"
  }
 },
 "nbformat": 4,
 "nbformat_minor": 5
}
