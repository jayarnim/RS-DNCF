{
 "cells": [
  {
   "cell_type": "code",
   "execution_count": null,
   "id": "b0cce79b",
   "metadata": {},
   "outputs": [],
   "source": [
    "LEARNING_TYPE = \"pointwise\"\n",
    "MODEL_CLASS = \"DMLP\"\n",
    "DATA_NAME = \"movielens\"\n",
    "MODEL_NAME = f\"{MODEL_CLASS}_{DATA_NAME}\""
   ]
  },
  {
   "cell_type": "code",
   "execution_count": 3,
   "id": "1ed599be",
   "metadata": {},
   "outputs": [],
   "source": [
    "WORK_DIR_PATH = \"../..\""
   ]
  },
  {
   "cell_type": "code",
   "execution_count": 4,
   "id": "2c76b994",
   "metadata": {
    "colab": {
     "base_uri": "https://localhost:8080/"
    },
    "executionInfo": {
     "elapsed": 17534,
     "status": "ok",
     "timestamp": 1757484691483,
     "user": {
      "displayName": "jay arnim",
      "userId": "06585464737719356011"
     },
     "user_tz": -540
    },
    "id": "2c76b994",
    "outputId": "12cfe143-3420-4d53-a918-b1e74f6ad184"
   },
   "outputs": [],
   "source": [
    "# from google.colab import drive\n",
    "# drive.mount('/content/drive')\n",
    "# WORK_DIR_PATH = \"/content/drive/MyDrive/RS-DNCF/\""
   ]
  },
  {
   "cell_type": "markdown",
   "id": "613e2bd6",
   "metadata": {
    "id": "613e2bd6"
   },
   "source": [
    "# Constants"
   ]
  },
  {
   "cell_type": "code",
   "execution_count": null,
   "id": "6c48ee75",
   "metadata": {},
   "outputs": [],
   "source": [
    "# split\n",
    "TRN_NEG_PER_POS = 4\n",
    "TST_NEG_PER_POS = 99\n",
    "LOO_NEG_PER_POS = TST_NEG_PER_POS\n",
    "TRN_BATCH_SIZE = 256\n",
    "TST_BATCH_SIZE = TRN_BATCH_SIZE\n",
    "LOO_BATCH_SIZE = 1000\n",
    "TRN_VAL_TST_RATIO = dict(trn=0.8, val=0.1, tst=0.1)\n",
    "NEG_PER_POS_RATIO = dict(trn=TRN_NEG_PER_POS, val=TRN_NEG_PER_POS, tst=TST_NEG_PER_POS, loo=LOO_NEG_PER_POS)\n",
    "BATCH_SIZE = dict(trn=TRN_BATCH_SIZE, val=TRN_BATCH_SIZE, tst=TST_BATCH_SIZE, loo=LOO_BATCH_SIZE)\n",
    "HIST_SELECTOR_TYPE = \"tfidf\"\n",
    "MAX_HIST = 400 if HIST_SELECTOR_TYPE==\"tfidf\" else None\n",
    "SHUFFLE = True"
   ]
  },
  {
   "cell_type": "code",
   "execution_count": 6,
   "id": "161523fd",
   "metadata": {},
   "outputs": [],
   "source": [
    "# Model\n",
    "N_FACTORS = 32\n",
    "HIDDEN = [N_FACTORS*4, N_FACTORS*4, N_FACTORS*2, N_FACTORS]\n",
    "DROPOUT = 0.2"
   ]
  },
  {
   "cell_type": "code",
   "execution_count": null,
   "id": "7bd22ef3",
   "metadata": {},
   "outputs": [],
   "source": [
    "# how to learn\n",
    "LEARNING_RATE = 1e-4\n",
    "LAMBDA_ = 1e-6 if MODEL_CLASS==\"DGMF\" else 1e-3"
   ]
  },
  {
   "cell_type": "code",
   "execution_count": 8,
   "id": "503d3d21",
   "metadata": {},
   "outputs": [],
   "source": [
    "# how to monitor\n",
    "METRIC_FN_TYPE = \"ndcg\"\n",
    "PATIENCE = 5\n",
    "MIN_DELTA = 1e-3"
   ]
  },
  {
   "cell_type": "code",
   "execution_count": 9,
   "id": "13d57644",
   "metadata": {
    "id": "13d57644"
   },
   "outputs": [],
   "source": [
    "# how to loop\n",
    "N_EPOCHS = 1000\n",
    "WARM_UP = 10\n",
    "INTERVAL = 1"
   ]
  },
  {
   "cell_type": "markdown",
   "id": "f9f08c36",
   "metadata": {
    "id": "f9f08c36"
   },
   "source": [
    "# Config"
   ]
  },
  {
   "cell_type": "code",
   "execution_count": 10,
   "id": "49c58ea9",
   "metadata": {
    "id": "49c58ea9"
   },
   "outputs": [],
   "source": [
    "import warnings\n",
    "warnings.filterwarnings(\"ignore\")"
   ]
  },
  {
   "cell_type": "code",
   "execution_count": 11,
   "id": "be23d2a7",
   "metadata": {
    "colab": {
     "base_uri": "https://localhost:8080/"
    },
    "executionInfo": {
     "elapsed": 196,
     "status": "ok",
     "timestamp": 1757484691692,
     "user": {
      "displayName": "jay arnim",
      "userId": "06585464737719356011"
     },
     "user_tz": -540
    },
    "id": "be23d2a7",
    "outputId": "31d864ad-2784-4e0c-df0b-94206cfcfd17"
   },
   "outputs": [
    {
     "name": "stdout",
     "output_type": "stream",
     "text": [
      "DIRECTORY: c:\\Users\\jayar\\Desktop\\바탕 화면\\REPO\\PAPER REVIEW\\RECSYS\\05_RS-DNCF\n"
     ]
    }
   ],
   "source": [
    "import os\n",
    "os.environ[\"CUDA_LAUNCH_BLOCKING\"] = \"1\"\n",
    "os.chdir(WORK_DIR_PATH)\n",
    "print(f\"DIRECTORY: {os.getcwd()}\")"
   ]
  },
  {
   "cell_type": "code",
   "execution_count": 12,
   "id": "851631e1",
   "metadata": {
    "execution": {
     "iopub.execute_input": "2025-04-18T00:54:05.108232Z",
     "iopub.status.busy": "2025-04-18T00:54:05.108232Z",
     "iopub.status.idle": "2025-04-18T00:54:05.782577Z",
     "shell.execute_reply": "2025-04-18T00:54:05.782577Z"
    },
    "id": "851631e1"
   },
   "outputs": [],
   "source": [
    "import pandas as pd\n",
    "import torch\n",
    "from DNCF import dncf\n",
    "import UTILS\n",
    "from DATA_SPLITTER.trn_val_tst import TRN_VAL_TST\n",
    "from LOOP.loop import TrainingLoop\n",
    "from LOOP.monitor.monitor import EarlyStoppingMonitor\n",
    "from LOOP.predictor.predictor import PerformancePredictor\n",
    "from LOOP.evaluator.evaluator import PerformanceEvaluator"
   ]
  },
  {
   "cell_type": "code",
   "execution_count": 13,
   "id": "df2cb50f",
   "metadata": {
    "id": "df2cb50f"
   },
   "outputs": [],
   "source": [
    "if LEARNING_TYPE==\"listwise\":\n",
    "    from LOOP.trainer.listwise import ListwiseTrainer as Trainer\n",
    "    TASK_FN_TYPE = \"climf\"\n",
    "\n",
    "elif LEARNING_TYPE==\"pairwise\":\n",
    "    from LOOP.trainer.pairwise import PairwiseTrainer as Trainer\n",
    "    TASK_FN_TYPE = \"bpr\"\n",
    "\n",
    "elif LEARNING_TYPE==\"pointwise\":\n",
    "    from LOOP.trainer.pointwise import PointwiseTrainer as Trainer\n",
    "    TASK_FN_TYPE = \"bce\"\n",
    "\n",
    "else:\n",
    "    raise ValueError()"
   ]
  },
  {
   "cell_type": "code",
   "execution_count": 14,
   "id": "7d401345",
   "metadata": {
    "id": "7d401345"
   },
   "outputs": [],
   "source": [
    "from UTILS.constants import (\n",
    "    DEFAULT_USER_COL,\n",
    "    DEFAULT_ITEM_COL,\n",
    "    DEFAULT_RATING_COL,\n",
    "    DEFAULT_LABEL_COL,\n",
    "    DEFAULT_TIMESTAMP_COL,\n",
    "    DEFAULT_PREDICTION_COL,\n",
    "    COL_DICT,\n",
    "    DEFAULT_K,\n",
    "    DEFAULT_THRESHOLD,\n",
    "    SEED,\n",
    ")"
   ]
  },
  {
   "cell_type": "code",
   "execution_count": 15,
   "id": "9a53ddac",
   "metadata": {
    "colab": {
     "base_uri": "https://localhost:8080/"
    },
    "execution": {
     "iopub.execute_input": "2025-04-18T00:54:05.782577Z",
     "iopub.status.busy": "2025-04-18T00:54:05.782577Z",
     "iopub.status.idle": "2025-04-18T00:54:05.812530Z",
     "shell.execute_reply": "2025-04-18T00:54:05.812530Z"
    },
    "executionInfo": {
     "elapsed": 378,
     "status": "ok",
     "timestamp": 1757484721490,
     "user": {
      "displayName": "jay arnim",
      "userId": "06585464737719356011"
     },
     "user_tz": -540
    },
    "id": "9a53ddac",
    "outputId": "4a2f8837-28b1-4399-c0f8-7be24d30521c"
   },
   "outputs": [
    {
     "name": "stdout",
     "output_type": "stream",
     "text": [
      "SETTING ALL SEEDS TO 42...\n",
      "ALL SEEDS SET\n"
     ]
    }
   ],
   "source": [
    "# seed\n",
    "UTILS.seed.reset()"
   ]
  },
  {
   "cell_type": "code",
   "execution_count": 16,
   "id": "97ae7b90",
   "metadata": {
    "colab": {
     "base_uri": "https://localhost:8080/"
    },
    "execution": {
     "iopub.execute_input": "2025-04-18T00:54:05.812530Z",
     "iopub.status.busy": "2025-04-18T00:54:05.812530Z",
     "iopub.status.idle": "2025-04-18T00:54:05.816030Z",
     "shell.execute_reply": "2025-04-18T00:54:05.816030Z"
    },
    "executionInfo": {
     "elapsed": 15,
     "status": "ok",
     "timestamp": 1757484721509,
     "user": {
      "displayName": "jay arnim",
      "userId": "06585464737719356011"
     },
     "user_tz": -540
    },
    "id": "97ae7b90",
    "outputId": "7cdb53f2-8c78-4549-98e0-5f41e7017924"
   },
   "outputs": [
    {
     "name": "stdout",
     "output_type": "stream",
     "text": [
      "cuda\n"
     ]
    }
   ],
   "source": [
    "# Available GPU\n",
    "device = torch.device(\"cuda\" if torch.cuda.is_available() else \"cpu\")\n",
    "print(device)"
   ]
  },
  {
   "cell_type": "markdown",
   "id": "0b47285f",
   "metadata": {
    "id": "0b47285f"
   },
   "source": [
    "# Data Preparation"
   ]
  },
  {
   "cell_type": "code",
   "execution_count": 17,
   "id": "ed5d6be4",
   "metadata": {
    "execution": {
     "iopub.execute_input": "2025-04-18T00:54:05.816030Z",
     "iopub.status.busy": "2025-04-18T00:54:05.816030Z",
     "iopub.status.idle": "2025-04-18T00:54:05.838930Z",
     "shell.execute_reply": "2025-04-18T00:54:05.838930Z"
    },
    "id": "ed5d6be4"
   },
   "outputs": [],
   "source": [
    "data = pd.read_csv(f\"./_data/{DATA_NAME}.csv\")"
   ]
  },
  {
   "cell_type": "code",
   "execution_count": 18,
   "id": "a3d2b14e",
   "metadata": {
    "execution": {
     "iopub.execute_input": "2025-04-18T00:54:05.840436Z",
     "iopub.status.busy": "2025-04-18T00:54:05.840436Z",
     "iopub.status.idle": "2025-04-18T00:54:05.855254Z",
     "shell.execute_reply": "2025-04-18T00:54:05.855254Z"
    },
    "id": "a3d2b14e"
   },
   "outputs": [],
   "source": [
    "# Number of user, item\n",
    "N_USERS = data[DEFAULT_USER_COL].nunique()\n",
    "N_ITEMS = data[DEFAULT_ITEM_COL].nunique()"
   ]
  },
  {
   "cell_type": "code",
   "execution_count": 19,
   "id": "483c1f75",
   "metadata": {
    "colab": {
     "base_uri": "https://localhost:8080/"
    },
    "execution": {
     "iopub.execute_input": "2025-04-18T00:54:05.855254Z",
     "iopub.status.busy": "2025-04-18T00:54:05.855254Z",
     "iopub.status.idle": "2025-04-18T00:54:05.860357Z",
     "shell.execute_reply": "2025-04-18T00:54:05.860357Z"
    },
    "executionInfo": {
     "elapsed": 16,
     "status": "ok",
     "timestamp": 1757484726139,
     "user": {
      "displayName": "jay arnim",
      "userId": "06585464737719356011"
     },
     "user_tz": -540
    },
    "id": "483c1f75",
    "outputId": "29c8d7f0-bd81-4e48-dd1e-beb99e58440e"
   },
   "outputs": [
    {
     "name": "stdout",
     "output_type": "stream",
     "text": [
      "number of user: 610\n",
      "number of item: 9724\n",
      "total interaction: 100836\n",
      "interaction density: 1.7000 %\n",
      "max interaction of user: 2698\n",
      "max interaction of item: 329\n",
      "top 10.0 % interaction of user: 400.3\n",
      "top 10.0 % interaction of item: 27.0\n",
      "mean interaction of user: 165\n",
      "mean interaction of item: 10\n"
     ]
    }
   ],
   "source": [
    "# data Description\n",
    "UTILS.datahandler.description(data)"
   ]
  },
  {
   "cell_type": "code",
   "execution_count": null,
   "id": "a1bf6691",
   "metadata": {
    "id": "a1bf6691"
   },
   "outputs": [],
   "source": [
    "kwargs = dict(\n",
    "    n_users=N_USERS,\n",
    "    n_items=N_ITEMS,\n",
    "    learning_type=LEARNING_TYPE,\n",
    ")\n",
    "\n",
    "dataloader = TRN_VAL_TST(**kwargs)"
   ]
  },
  {
   "cell_type": "code",
   "execution_count": 21,
   "id": "49271df2",
   "metadata": {
    "id": "49271df2"
   },
   "outputs": [],
   "source": [
    "kwargs = dict(\n",
    "    origin=data,\n",
    "    trn_val_tst_ratio=TRN_VAL_TST_RATIO,\n",
    "    neg_per_pos_ratio=NEG_PER_POS_RATIO,\n",
    "    batch_size=BATCH_SIZE,\n",
    "    hist_selector_type=HIST_SELECTOR_TYPE,\n",
    "    max_hist=MAX_HIST,\n",
    "    shuffle=SHUFFLE,\n",
    ")\n",
    "\n",
    "loaders, interactions, (user_hist, item_hist) = dataloader.get(**kwargs)"
   ]
  },
  {
   "cell_type": "code",
   "execution_count": 22,
   "id": "87757157",
   "metadata": {
    "id": "87757157"
   },
   "outputs": [],
   "source": [
    "trn_loader, val_loader, tst_loader, loo_loader = loaders"
   ]
  },
  {
   "cell_type": "markdown",
   "id": "eaaa126a",
   "metadata": {
    "id": "eaaa126a"
   },
   "source": [
    "# Modeling"
   ]
  },
  {
   "cell_type": "code",
   "execution_count": 23,
   "id": "56d340e9",
   "metadata": {
    "execution": {
     "iopub.execute_input": "2025-04-18T00:54:06.931133Z",
     "iopub.status.busy": "2025-04-18T00:54:06.931133Z",
     "iopub.status.idle": "2025-04-18T00:54:07.014576Z",
     "shell.execute_reply": "2025-04-18T00:54:07.014576Z"
    },
    "id": "56d340e9"
   },
   "outputs": [],
   "source": [
    "kwargs = dict(\n",
    "    n_users=N_USERS,\n",
    "    n_items=N_ITEMS,\n",
    "    n_factors=N_FACTORS,\n",
    "    interactions=interactions,\n",
    ")\n",
    "\n",
    "if MODEL_CLASS ==\"DGMF\":\n",
    "    model = dncf.dgmf.Module(**kwargs)\n",
    "\n",
    "elif MODEL_CLASS==\"DMLP\":\n",
    "    kwargs[\"hidden\"] = HIDDEN\n",
    "    kwargs[\"dropout\"] = DROPOUT\n",
    "    model = dncf.dmlp.Module(**kwargs)\n",
    "\n",
    "elif MODEL_CLASS==\"DNMF\":\n",
    "    kwargs[\"hidden\"] = HIDDEN\n",
    "    kwargs[\"dropout\"] = DROPOUT\n",
    "    model = dncf.dnmf.Module(**kwargs)\n",
    "\n",
    "else:\n",
    "    raise ValueError()"
   ]
  },
  {
   "cell_type": "code",
   "execution_count": 24,
   "id": "92aec85d",
   "metadata": {
    "execution": {
     "iopub.execute_input": "2025-04-18T00:54:07.014576Z",
     "iopub.status.busy": "2025-04-18T00:54:07.014576Z",
     "iopub.status.idle": "2025-04-18T00:54:07.834168Z",
     "shell.execute_reply": "2025-04-18T00:54:07.834168Z"
    },
    "id": "92aec85d"
   },
   "outputs": [],
   "source": [
    "kwargs = dict(\n",
    "    model=model,\n",
    "    task_fn_type=TASK_FN_TYPE,\n",
    "    lr=LEARNING_RATE,\n",
    "    lambda_=LAMBDA_\n",
    ")\n",
    "\n",
    "trainer = Trainer(**kwargs)"
   ]
  },
  {
   "cell_type": "code",
   "execution_count": 25,
   "id": "4d57d2b1",
   "metadata": {
    "id": "4d57d2b1"
   },
   "outputs": [],
   "source": [
    "kwargs = dict(\n",
    "    model=model,\n",
    "    metric_fn_type=METRIC_FN_TYPE,\n",
    "    patience=PATIENCE,\n",
    "    min_delta=MIN_DELTA,\n",
    ")\n",
    "\n",
    "monitor = EarlyStoppingMonitor(**kwargs)"
   ]
  },
  {
   "cell_type": "code",
   "execution_count": 26,
   "id": "0fa9e8de",
   "metadata": {
    "id": "0fa9e8de"
   },
   "outputs": [],
   "source": [
    "kwargs = dict(\n",
    "    model=model,\n",
    "    trainer=trainer,\n",
    "    monitor=monitor,\n",
    ")\n",
    "\n",
    "loop = TrainingLoop(**kwargs)"
   ]
  },
  {
   "cell_type": "markdown",
   "id": "ee78f187",
   "metadata": {
    "id": "ee78f187"
   },
   "source": [
    "# Train"
   ]
  },
  {
   "cell_type": "code",
   "execution_count": 27,
   "id": "3e4de17a",
   "metadata": {
    "colab": {
     "base_uri": "https://localhost:8080/"
    },
    "execution": {
     "iopub.execute_input": "2025-04-18T00:54:07.834168Z",
     "iopub.status.busy": "2025-04-18T00:54:07.834168Z",
     "iopub.status.idle": "2025-04-18T00:55:21.491977Z",
     "shell.execute_reply": "2025-04-18T00:55:21.491977Z"
    },
    "executionInfo": {
     "elapsed": 465803,
     "status": "ok",
     "timestamp": 1757485207098,
     "user": {
      "displayName": "jay arnim",
      "userId": "06585464737719356011"
     },
     "user_tz": -540
    },
    "id": "3e4de17a",
    "outputId": "bb5247d9-4d16-44f7-d472-52db76b954ae"
   },
   "outputs": [
    {
     "name": "stdout",
     "output_type": "stream",
     "text": [
      "LEAVE ONE OUT\n",
      "\tBEST SCORE: 0.5797\n",
      "\tBEST EPOCH: 11\n",
      "COMPUTING COST FOR LEARNING\n",
      "\t(s/epoch): 0.2803\n",
      "\t(epoch/s): 3.5680\n",
      "\t(s/batch): 0.0105\n",
      "\t(batch/s): 95.0488\n"
     ]
    }
   ],
   "source": [
    "kwargs = dict(\n",
    "    trn_loader=trn_loader,\n",
    "    val_loader=val_loader,\n",
    "    loo_loader=loo_loader,\n",
    "    n_epochs=N_EPOCHS,\n",
    "    warm_up=WARM_UP,\n",
    "    interval=INTERVAL,\n",
    ")\n",
    "\n",
    "history = loop.fit(**kwargs)"
   ]
  },
  {
   "cell_type": "code",
   "execution_count": 28,
   "id": "0dde1ad9",
   "metadata": {
    "colab": {
     "base_uri": "https://localhost:8080/",
     "height": 507
    },
    "execution": {
     "iopub.execute_input": "2025-04-18T00:55:21.491977Z",
     "iopub.status.busy": "2025-04-18T00:55:21.491977Z",
     "iopub.status.idle": "2025-04-18T00:55:21.585604Z",
     "shell.execute_reply": "2025-04-18T00:55:21.585604Z"
    },
    "executionInfo": {
     "elapsed": 437,
     "status": "ok",
     "timestamp": 1757485207546,
     "user": {
      "displayName": "jay arnim",
      "userId": "06585464737719356011"
     },
     "user_tz": -540
    },
    "id": "0dde1ad9",
    "outputId": "70137b27-012a-4271-9e49-b892a474d6db"
   },
   "outputs": [
    {
     "data": {
      "image/png": "[encoded data removed]",
      "text/plain": [
       "<Figure size 800x500 with 1 Axes>"
      ]
     },
     "metadata": {},
     "output_type": "display_data"
    }
   ],
   "source": [
    "UTILS.visualizer.loss_plot(history, 'TASK LOSS')"
   ]
  },
  {
   "cell_type": "markdown",
   "id": "98b20720",
   "metadata": {
    "id": "98b20720"
   },
   "source": [
    "# Test"
   ]
  },
  {
   "cell_type": "code",
   "execution_count": 29,
   "id": "307e4057",
   "metadata": {},
   "outputs": [],
   "source": [
    "predictor = PerformancePredictor(model)"
   ]
  },
  {
   "cell_type": "code",
   "execution_count": 30,
   "id": "5efe605c",
   "metadata": {
    "colab": {
     "base_uri": "https://localhost:8080/"
    },
    "execution": {
     "iopub.execute_input": "2025-04-18T00:55:21.660121Z",
     "iopub.status.busy": "2025-04-18T00:55:21.660121Z",
     "iopub.status.idle": "2025-04-18T00:55:26.983338Z",
     "shell.execute_reply": "2025-04-18T00:55:26.983338Z"
    },
    "executionInfo": {
     "elapsed": 2990,
     "status": "ok",
     "timestamp": 1757485210534,
     "user": {
      "displayName": "jay arnim",
      "userId": "06585464737719356011"
     },
     "user_tz": -540
    },
    "id": "5efe605c",
    "outputId": "89ca29e9-133e-405d-848d-f299a6c26f1c"
   },
   "outputs": [
    {
     "name": "stdout",
     "output_type": "stream",
     "text": [
      "COMPUTING COST FOR INFERENCE\n",
      "\t(s/epoch): 9.1260\n",
      "\t(epoch/s): 0.1096\n",
      "\t(s/batch): 0.0023\n",
      "\t(batch/s): 429.1035\n"
     ]
    }
   ],
   "source": [
    "result = predictor.predict(tst_loader)"
   ]
  },
  {
   "cell_type": "code",
   "execution_count": 31,
   "id": "4feaa0b6",
   "metadata": {},
   "outputs": [],
   "source": [
    "evaluator = PerformanceEvaluator()"
   ]
  },
  {
   "cell_type": "code",
   "execution_count": 32,
   "id": "10483fb5",
   "metadata": {
    "colab": {
     "base_uri": "https://localhost:8080/"
    },
    "executionInfo": {
     "elapsed": 16882,
     "status": "ok",
     "timestamp": 1757485227418,
     "user": {
      "displayName": "jay arnim",
      "userId": "06585464737719356011"
     },
     "user_tz": -540
    },
    "id": "10483fb5",
    "outputId": "3c197b09-1181-427e-db82-f9f17878b6c2"
   },
   "outputs": [
    {
     "data": {
      "text/html": [
       "<div>\n",
       "<style scoped>\n",
       "    .dataframe tbody tr th:only-of-type {\n",
       "        vertical-align: middle;\n",
       "    }\n",
       "\n",
       "    .dataframe tbody tr th {\n",
       "        vertical-align: top;\n",
       "    }\n",
       "\n",
       "    .dataframe thead th {\n",
       "        text-align: right;\n",
       "    }\n",
       "</style>\n",
       "<table border=\"1\" class=\"dataframe\">\n",
       "  <thead>\n",
       "    <tr style=\"text-align: right;\">\n",
       "      <th></th>\n",
       "      <th>top_k</th>\n",
       "      <th>hit_ratio</th>\n",
       "      <th>precision</th>\n",
       "      <th>recall</th>\n",
       "      <th>map</th>\n",
       "      <th>ndcg</th>\n",
       "    </tr>\n",
       "  </thead>\n",
       "  <tbody>\n",
       "    <tr>\n",
       "      <th>0</th>\n",
       "      <td>5</td>\n",
       "      <td>0.832787</td>\n",
       "      <td>0.363934</td>\n",
       "      <td>0.283331</td>\n",
       "      <td>0.205617</td>\n",
       "      <td>0.431935</td>\n",
       "    </tr>\n",
       "    <tr>\n",
       "      <th>1</th>\n",
       "      <td>10</td>\n",
       "      <td>0.927869</td>\n",
       "      <td>0.291311</td>\n",
       "      <td>0.415150</td>\n",
       "      <td>0.258202</td>\n",
       "      <td>0.452824</td>\n",
       "    </tr>\n",
       "    <tr>\n",
       "      <th>2</th>\n",
       "      <td>15</td>\n",
       "      <td>0.960656</td>\n",
       "      <td>0.241749</td>\n",
       "      <td>0.487797</td>\n",
       "      <td>0.279056</td>\n",
       "      <td>0.466160</td>\n",
       "    </tr>\n",
       "    <tr>\n",
       "      <th>3</th>\n",
       "      <td>20</td>\n",
       "      <td>0.977049</td>\n",
       "      <td>0.211311</td>\n",
       "      <td>0.542252</td>\n",
       "      <td>0.292447</td>\n",
       "      <td>0.479651</td>\n",
       "    </tr>\n",
       "    <tr>\n",
       "      <th>4</th>\n",
       "      <td>25</td>\n",
       "      <td>0.990164</td>\n",
       "      <td>0.189115</td>\n",
       "      <td>0.584306</td>\n",
       "      <td>0.300980</td>\n",
       "      <td>0.490478</td>\n",
       "    </tr>\n",
       "    <tr>\n",
       "      <th>5</th>\n",
       "      <td>50</td>\n",
       "      <td>0.998361</td>\n",
       "      <td>0.130525</td>\n",
       "      <td>0.700739</td>\n",
       "      <td>0.322091</td>\n",
       "      <td>0.525981</td>\n",
       "    </tr>\n",
       "    <tr>\n",
       "      <th>6</th>\n",
       "      <td>100</td>\n",
       "      <td>1.000000</td>\n",
       "      <td>0.083590</td>\n",
       "      <td>0.795932</td>\n",
       "      <td>0.334448</td>\n",
       "      <td>0.558041</td>\n",
       "    </tr>\n",
       "  </tbody>\n",
       "</table>\n",
       "</div>"
      ],
      "text/plain": [
       "   top_k  hit_ratio  precision    recall       map      ndcg\n",
       "0      5   0.832787   0.363934  0.283331  0.205617  0.431935\n",
       "1     10   0.927869   0.291311  0.415150  0.258202  0.452824\n",
       "2     15   0.960656   0.241749  0.487797  0.279056  0.466160\n",
       "3     20   0.977049   0.211311  0.542252  0.292447  0.479651\n",
       "4     25   0.990164   0.189115  0.584306  0.300980  0.490478\n",
       "5     50   0.998361   0.130525  0.700739  0.322091  0.525981\n",
       "6    100   1.000000   0.083590  0.795932  0.334448  0.558041"
      ]
     },
     "execution_count": 32,
     "metadata": {},
     "output_type": "execute_result"
    }
   ],
   "source": [
    "eval = evaluator.evaluate(result)\n",
    "eval"
   ]
  },
  {
   "cell_type": "markdown",
   "id": "2809f6ea",
   "metadata": {
    "id": "2809f6ea"
   },
   "source": [
    "# Save"
   ]
  },
  {
   "cell_type": "code",
   "execution_count": 33,
   "id": "dd64f5f0",
   "metadata": {
    "id": "dd64f5f0"
   },
   "outputs": [],
   "source": [
    "PATH = f'./_checkpoints/{LEARNING_TYPE}/{MODEL_NAME}.pth'\n",
    "\n",
    "kwargs = dict(\n",
    "    model=model,\n",
    "    path=PATH,\n",
    ")\n",
    "\n",
    "UTILS.checkpointer.save(**kwargs)"
   ]
  }
 ],
 "metadata": {
  "accelerator": "GPU",
  "colab": {
   "gpuType": "T4",
   "provenance": []
  },
  "kernelspec": {
   "display_name": "Python 3",
   "name": "python3"
  },
  "language_info": {
   "codemirror_mode": {
    "name": "ipython",
    "version": 3
   },
   "file_extension": ".py",
   "mimetype": "text/x-python",
   "name": "python",
   "nbconvert_exporter": "python",
   "pygments_lexer": "ipython3",
   "version": "3.11.5"
  }
 },
 "nbformat": 4,
 "nbformat_minor": 5
}
